{
 "cells": [
  {
   "cell_type": "markdown",
   "metadata": {},
   "source": [
    "# Introduction To Probability\n",
    "## Challenge 1\n",
    "\n",
    "A and B are events of a probability space with $(\\omega, \\sigma, P)$ such that $P(A) = 0.3$, $P(B) = 0.6$ and $P(A \\cap B) = 0.1$\n",
    "\n",
    "Which of the following statements are false?\n",
    "* $P(A \\cup B) = 0.6$\n",
    "* $P(A \\cap B^{C}) = 0.2$\n",
    "* $P(A \\cap (B \\cup B^{C})) = 0.4$\n",
    "* $P(A^{C} \\cap B^{C}) = 0.3$\n",
    "* $P((A \\cap B)^{C}) = 0.9$"
   ]
  },
  {
   "cell_type": "code",
   "execution_count": 3,
   "metadata": {},
   "outputs": [
    {
     "data": {
      "text/plain": [
       "'\\nyour solution here\\n1) False, P(𝐴∪𝐵)=P(A)+P(B)-𝑃(𝐴∩𝐵)= 0.8\\n2) True, because P(𝐴∪𝐵 - B)=0.8 -0.6 = 0.2\\n3) False, 𝑃(𝐴 ∩(𝐵∪𝐵𝐶)) = 𝑃(𝐴 ∩ 1) = P(A) = 0.3\\n4) False, 𝑃(𝐴𝐶∩𝐵𝐶) =P((𝐴∪𝐵)C) = 1 - P(𝐴∪𝐵) = 1 - 0.8 = 0.2\\n5) True ,𝑃((𝐴∩𝐵)𝐶) = P(𝐴C∪𝐵C) = P(Ac) + P(Bc) - P(𝐴𝐶∩𝐵𝐶) = 0.7 + 0.4 - 0.2 = 0.9\\n'"
      ]
     },
     "execution_count": 3,
     "metadata": {},
     "output_type": "execute_result"
    }
   ],
   "source": [
    "\"\"\"\n",
    "your solution here\n",
    "1) False, P(𝐴∪𝐵)=P(A)+P(B)-𝑃(𝐴∩𝐵)= 0.8\n",
    "2) True, because P(𝐴∪𝐵 - B)=0.8 -0.6 = 0.2\n",
    "3) False, 𝑃(𝐴 ∩(𝐵∪𝐵𝐶)) = 𝑃(𝐴 ∩ 1) = P(A) = 0.3\n",
    "4) False, 𝑃(𝐴𝐶∩𝐵𝐶) =P((𝐴∪𝐵)C) = 1 - P(𝐴∪𝐵) = 1 - 0.8 = 0.2\n",
    "5) True ,𝑃((𝐴∩𝐵)𝐶) = P(𝐴C∪𝐵C) = P(Ac) + P(Bc) - P(𝐴𝐶∩𝐵𝐶) = 0.7 + 0.4 - 0.2 = 0.9\n",
    "\"\"\"\n",
    "\n"
   ]
  },
  {
   "cell_type": "markdown",
   "metadata": {},
   "source": [
    "## Challenge 2\n",
    "There is a box with 10 white balls, 12 red balls and 8 black balls. Calculate the probability of:\n",
    "* Taking a white ball out.\n",
    "* Taking a white ball out after taking a black ball out.\n",
    "* Taking a red ball out after taking a black and a red ball out.\n",
    "* Taking a red ball out after taking a black and a red ball out with reposition.\n",
    "\n",
    "**Hint**: Reposition means putting back the ball into the box after taking it out."
   ]
  },
  {
   "cell_type": "code",
   "execution_count": null,
   "metadata": {},
   "outputs": [],
   "source": [
    "\"\"\"\n",
    "your solution here\n",
    "\n",
    "total = 10 +12+8 =30\n",
    "\n",
    "1)10/30 = 1/3\n",
    "2)8/30 * 10/29 = 80/870 = 8/87  \n",
    "3)12/30 * 8/29 * 11/28 = 1056/24 360 = 44/1015\n",
    "4)12/30 * 12/30 * 8/30 = 1152/2700 = 576/13500 = 288/6750 = 144/3375\n",
    "\"\"\""
   ]
  },
  {
   "cell_type": "markdown",
   "metadata": {},
   "source": [
    "## Challenge 3\n",
    "\n",
    "You are planning to go on a picnic today but the morning is cloudy. You hate rain so you don't know whether to go out or stay home! To help you make a decision, you gather the following data about rainy days:\n",
    "\n",
    "* Knowing that it is a rainy day, the probability of cloudy is 50%!\n",
    "* The probability of any day (rainy or not) starting off cloudy is 40%. \n",
    "* This month is usually dry so only 3 of 30 days (10%) tend to be rainy. \n",
    "\n",
    "What is the probability of rain, given the day started cloudy?"
   ]
  },
  {
   "cell_type": "code",
   "execution_count": 7,
   "metadata": {},
   "outputs": [
    {
     "data": {
      "text/plain": [
       "'\\nyour solution here\\nP(cloudy|rainy)=0,5\\nP(cloudy)=0,4\\nP(rainy) = 0,10\\n\\nP(cloudy ∩ rainy) = P(cloudy|rainy) * P(rainy) = 0,5*0,1 = 0,05\\n\\n'"
      ]
     },
     "execution_count": 7,
     "metadata": {},
     "output_type": "execute_result"
    }
   ],
   "source": [
    "\"\"\"\n",
    "your solution here\n",
    "P(cloudy|rainy)=0,5\n",
    "P(cloudy)=0,4\n",
    "P(rainy) = 0,10\n",
    "\n",
    "P(cloudy ∩ rainy) = P(cloudy|rainy) * P(rainy) = 0,5*0,1 = 0,05\n",
    "\n",
    "P(rain|cloudy) = (P(cloudy ∩ rainy)) / P(cloudy) = 0,05/0,4 = 0,125\n",
    "\n",
    "\n",
    "\"\"\""
   ]
  },
  {
   "cell_type": "markdown",
   "metadata": {},
   "source": [
    "## Challenge 4\n",
    "\n",
    "One thousand people were asked through a telephone survey whether they thought more street lighting is needed at night or not.\n",
    "\n",
    "Out of the 480 men that answered the survey, 324 said yes and 156 said no. On the other hand, out of the 520 women that answered, 351 said yes and 169 said no. \n",
    "\n",
    "We wonder if men and women have a different opinions about the street lighting matter. Is gender relevant or irrelevant to the question?\n",
    "\n",
    "Consider the following events:\n",
    "- The answer is yes, so the person that answered thinks that more street lighting is needed.\n",
    "- The person who answered is a man.\n",
    "\n",
    "We want to know if these events are independent, that is, if the fact of wanting more light depends on whether one is male or female. Are these events independent or not?\n",
    "\n",
    "**Hint**: To clearly compare the answers by gender, it is best to place the data in a table."
   ]
  },
  {
   "cell_type": "code",
   "execution_count": 1,
   "metadata": {},
   "outputs": [],
   "source": [
    "# your code here"
   ]
  },
  {
   "cell_type": "code",
   "execution_count": null,
   "metadata": {},
   "outputs": [],
   "source": [
    "\"\"\"\n",
    "your solution here\n",
    "\n",
    "universe = 1000\n",
    "\n",
    "women = 520\n",
    "women_y = 351\n",
    "women_n = 169\n",
    "\n",
    "men = 480\n",
    "men_y = 324\n",
    "men_n = 156\n",
    "\n",
    "Two events are independent if:\n",
    "P(A∩B) = P(A)*P(B) \n",
    "P(A|B) = P(A)\n",
    "\n",
    "P(women) = 520/1000\n",
    "P(Yes|Women) = 351/520\n",
    "\n",
    "\n",
    "P(Men) = 480/1000\n",
    "P(Yes|Men) = 324/480\n",
    "P(Yes ∩ Men) = P(Yes|Men) * P(Men) = 480/1000 * 324/480 = 0.324\n",
    "\n",
    "Lets see if they are independent:\n",
    "P(A∩B) = P(A)*P(B)\n",
    "\n",
    "P(Yes) = P(A) = 675/1000\n",
    "P(Men) = P(B) = 480/1000\n",
    "\n",
    "0.324 = 675/1000 * 480/1000 <=> 0.324 = 0.324  TRUE, the events A and B are INDEPENDENT\n",
    "\n",
    "\n",
    "\n",
    "\"\"\""
   ]
  }
 ],
 "metadata": {
  "kernelspec": {
   "display_name": "Python 3 (ipykernel)",
   "language": "python",
   "name": "python3"
  },
  "language_info": {
   "codemirror_mode": {
    "name": "ipython",
    "version": 3
   },
   "file_extension": ".py",
   "mimetype": "text/x-python",
   "name": "python",
   "nbconvert_exporter": "python",
   "pygments_lexer": "ipython3",
   "version": "3.9.13"
  }
 },
 "nbformat": 4,
 "nbformat_minor": 2
}
